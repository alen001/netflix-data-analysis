{
 "cells": [
  {
   "cell_type": "markdown",
   "id": "c562fbbf",
   "metadata": {},
   "source": [
    "# Netflix Data Analysis\n",
    "Analysis of the data downloaded from Netflix account. \n",
    "\n",
    "\n",
    "Here I'll be using my own personal netflix data.\n",
    "[Visit this page](https://www.netflix.com/account/getmyinfo) to get your netflix data if you have an account."
   ]
  },
  {
   "cell_type": "code",
   "execution_count": null,
   "id": "ad69e5e6",
   "metadata": {},
   "outputs": [],
   "source": [
    "import pandas as pd\n",
    "\n",
    "#read your csv file \n",
    "df = pd.read_csv('ViewingActivity.csv')"
   ]
  },
  {
   "cell_type": "code",
   "execution_count": null,
   "id": "28924cfc",
   "metadata": {
    "scrolled": true
   },
   "outputs": [],
   "source": [
    "#to check size of the dataframe df\n",
    "df.shape"
   ]
  },
  {
   "cell_type": "code",
   "execution_count": null,
   "id": "5a8e88a3",
   "metadata": {},
   "outputs": [],
   "source": [
    "#to print first 1 rows\n",
    "df.head(1)"
   ]
  },
  {
   "cell_type": "code",
   "execution_count": null,
   "id": "9a753805",
   "metadata": {},
   "outputs": [],
   "source": [
    "#dropping unwanted Coloumns\n",
    "df = df.drop(['Attributes' , 'Supplemental Video Type' , 'Device Type' , 'Bookmark' , 'Latest Bookmark' , 'Country'] , axis=1)\n",
    "\n",
    "df.head(1)"
   ]
  },
  {
   "cell_type": "code",
   "execution_count": null,
   "id": "542cc2ad",
   "metadata": {},
   "outputs": [],
   "source": [
    "#checking the datatypes of \n",
    "df.dtypes"
   ]
  },
  {
   "cell_type": "code",
   "execution_count": null,
   "id": "58860c98",
   "metadata": {},
   "outputs": [],
   "source": [
    "#converting start time to datetime format\n",
    "df['Start Time'] = pd.to_datetime(df['Start Time'], utc = True)\n",
    "\n",
    "df.dtypes"
   ]
  },
  {
   "cell_type": "code",
   "execution_count": null,
   "id": "0781b0b4",
   "metadata": {},
   "outputs": [],
   "source": [
    "# change the Start Time column into the dataframe's index\n",
    "df = df.set_index('Start Time')\n",
    "\n",
    "\n",
    "# convert from UTC timezone to Indian time\n",
    "df.index = df.index.tz_convert('Asia/Kolkata')\n",
    "\n",
    "# reset the index so that Start Time becomes a column again\n",
    "df =df.reset_index()\n",
    "\n",
    "df.head(1)"
   ]
  },
  {
   "cell_type": "code",
   "execution_count": null,
   "id": "c48e75f0",
   "metadata": {},
   "outputs": [],
   "source": [
    "#to convert duration as timedelta format\n",
    "df['Duration'] = pd.to_timedelta(df['Duration'])\n",
    "df.dtypes"
   ]
  },
  {
   "cell_type": "markdown",
   "id": "79c96b91",
   "metadata": {},
   "source": [
    "# Viewing data of a specific program\n",
    "Here I am using *\"Formula 1 : Drive to survive\"* data to analyse"
   ]
  },
  {
   "cell_type": "code",
   "execution_count": null,
   "id": "e3000d95",
   "metadata": {},
   "outputs": [],
   "source": [
    "#Seprating my profile's(\"Kal El\") viewing data\n",
    "my_profilename = df[df['Profile Name'].str.contains('Kal El' , regex = False)]\n",
    "\n",
    "#Storing Formula1's watch data by checking if the title contains the keyword\n",
    "formula1 = df[df['Title'].str.contains('Formula 1' , regex = False)]\n",
    "\n",
    "formula1"
   ]
  },
  {
   "cell_type": "code",
   "execution_count": null,
   "id": "a12796fd",
   "metadata": {
    "scrolled": false
   },
   "outputs": [],
   "source": [
    "#duration should be atlest one minute \n",
    "formula1 = formula1[(formula1['Duration'] > '0 days 00:01:00')]\n",
    "\n",
    "formula1.head(20)"
   ]
  },
  {
   "cell_type": "code",
   "execution_count": null,
   "id": "d46fad0e",
   "metadata": {},
   "outputs": [],
   "source": [
    "#to store which days of the week have I watched the episodes?\n",
    "formula1['weekday'] = formula1['Start Time'].dt.weekday\n",
    "\n",
    "#During which hours of the day do I most often start the episodes?\n",
    "formula1['hour'] = formula1['Start Time'].dt.hour\n",
    "\n",
    "# check to make sure the columns were added correctly\n",
    "formula1.head(1)"
   ]
  },
  {
   "cell_type": "code",
   "execution_count": null,
   "id": "b96da370",
   "metadata": {},
   "outputs": [],
   "source": [
    "%matplotlib inline\n",
    "\n",
    "import matplotlib"
   ]
  },
  {
   "cell_type": "code",
   "execution_count": null,
   "id": "b02c3feb",
   "metadata": {},
   "outputs": [],
   "source": [
    "formula1['weekday'] = pd.Categorical(formula1['weekday'], categories = [0,1,2,3,4,5,6] , ordered = True)\n",
    "formula1.head(5)"
   ]
  },
  {
   "cell_type": "code",
   "execution_count": null,
   "id": "ea29e83f",
   "metadata": {},
   "outputs": [],
   "source": [
    "#counting the weekday values\n",
    "formula1_by_day = formula1['weekday'].value_counts()\n",
    "formula1_by_day"
   ]
  },
  {
   "cell_type": "code",
   "execution_count": null,
   "id": "edde23cc",
   "metadata": {},
   "outputs": [],
   "source": [
    "#sorting the index\n",
    "formula1_by_day = formula1_by_day.sort_index()\n",
    "formula1_by_day"
   ]
  },
  {
   "cell_type": "code",
   "execution_count": null,
   "id": "ad07006f",
   "metadata": {},
   "outputs": [],
   "source": [
    "#updating the font size to make it a bit larger and easier to read\n",
    "matplotlib.rcParams.update({'font.size': 22})\n",
    "\n",
    "formula1_by_day.plot(kind='bar', figsize=(20,10), title='Formula 1 Episodes Watched by Day')"
   ]
  },
  {
   "cell_type": "code",
   "execution_count": null,
   "id": "684577c2",
   "metadata": {},
   "outputs": [],
   "source": [
    "# set our categorical and define the order so the hours are plotted 0-23\n",
    "formula1['hour'] = pd.Categorical(formula1['hour'], categories=\n",
    "    [0,1,2,3,4,5,6,7,8,9,10,11,12,13,14,15,16,17,18,19,20,21,22,23],\n",
    "    ordered=True)\n",
    "\n",
    "\n",
    "formula1_by_hour = formula1['hour'].value_counts()\n",
    "\n",
    "formula1_by_hour = formula1_by_hour.sort_index()\n",
    "\n",
    "formula1_by_hour.plot(kind = 'bar' , figsize = (20,10) , title = \"Formula1 episodes watched by hour\")"
   ]
  },
  {
   "cell_type": "markdown",
   "id": "50f5f081",
   "metadata": {},
   "source": [
    "# Netflix Viewing Activity During Covid Times\n",
    "To view the netflix data so that we could analyse the usage during covid times(from 2019 Dec to 2021 May"
   ]
  },
  {
   "cell_type": "code",
   "execution_count": null,
   "id": "16a8c98d",
   "metadata": {
    "scrolled": false
   },
   "outputs": [],
   "source": [
    "#deleteing profile name\n",
    "covidf = df.drop(['Profile Name'] , axis=1)\n",
    "\n",
    "covidf"
   ]
  },
  {
   "cell_type": "code",
   "execution_count": null,
   "id": "37b10a6a",
   "metadata": {
    "scrolled": false
   },
   "outputs": [],
   "source": [
    "#obtaining date from Start Time\n",
    "covidf['Date'] = covidf['Start Time'].dt.date\n",
    "\n",
    "covidf['Date'] = pd.to_datetime(covidf['Date'])\n",
    "\n",
    "covidf"
   ]
  },
  {
   "cell_type": "code",
   "execution_count": null,
   "id": "7a7cc4cb",
   "metadata": {},
   "outputs": [],
   "source": [
    "#Data from 2019 December to 2021 May\n",
    "start_date = '2019-12-19'\n",
    "end_date = '2021-05-30'\n",
    "\n",
    "mask = (covidf['Date'] > start_date) & (covidf['Date'] <= end_date)\n",
    "\n",
    "covidf = covidf.loc[mask]\n",
    "covidf"
   ]
  },
  {
   "cell_type": "code",
   "execution_count": null,
   "id": "6083e271",
   "metadata": {},
   "outputs": [],
   "source": [
    "#Counting the dates so that the number of times watched will be available\n",
    "covi = covidf.groupby(['Date']).size()\n",
    "covi.head(1)"
   ]
  },
  {
   "cell_type": "code",
   "execution_count": null,
   "id": "42efb13f",
   "metadata": {},
   "outputs": [],
   "source": [
    "#plotting the data\n",
    "covi.plot(figsize=(30,10), title='Viewing activity per day(during covid time)')"
   ]
  }
 ],
 "metadata": {
  "kernelspec": {
   "display_name": "Python 3",
   "language": "python",
   "name": "python3"
  },
  "language_info": {
   "codemirror_mode": {
    "name": "ipython",
    "version": 3
   },
   "file_extension": ".py",
   "mimetype": "text/x-python",
   "name": "python",
   "nbconvert_exporter": "python",
   "pygments_lexer": "ipython3",
   "version": "3.9.5"
  }
 },
 "nbformat": 4,
 "nbformat_minor": 5
}